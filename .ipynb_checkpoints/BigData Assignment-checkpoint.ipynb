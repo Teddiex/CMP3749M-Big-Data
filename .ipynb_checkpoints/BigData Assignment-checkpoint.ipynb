{
 "cells": [
  {
   "cell_type": "code",
   "execution_count": 37,
   "id": "2a346d3c-173e-41c3-b23e-6f713070c502",
   "metadata": {},
   "outputs": [],
   "source": [
    "import pyspark\n",
    "from pyspark.sql import SparkSession\n",
    "from pyspark.sql.functions import col,sum, mean, max, min\n",
    "from pyspark.ml.feature import StringIndexer\n",
    "import matplotlib.pyplot as plt\n",
    "import seaborn as sns\n",
    "import pandas as pd"
   ]
  },
  {
   "cell_type": "code",
   "execution_count": 38,
   "id": "fa02c4a7-6b7b-4c38-84a2-5a7d2620308a",
   "metadata": {},
   "outputs": [],
   "source": [
    "spark = SparkSession.builder.getOrCreate()"
   ]
  },
  {
   "cell_type": "code",
   "execution_count": 39,
   "id": "21157ae4-1464-4dcb-8751-2eab77cc1e24",
   "metadata": {},
   "outputs": [
    {
     "name": "stdout",
     "output_type": "stream",
     "text": [
      "Original count 996\n",
      "New count 996\n"
     ]
    }
   ],
   "source": [
    "#Task 1\n",
    "def clean_data(df):\n",
    "    #Takes in a pyspark dataframe\n",
    "    #Counts number of entries before and after dropping duplicates,\n",
    "    #nulls and missing values.\n",
    "    print(f'Original count {df.count()}')\n",
    "    df = df.dropDuplicates()\n",
    "    df = df.dropna()\n",
    "    print(f'New count {df.count()}')\n",
    "    return df\n",
    "\n",
    "df = spark.read.csv('nuclear_plants_small_dataset.csv',inferSchema=True,header=True)\n",
    "df = clean_data(df)"
   ]
  },
  {
   "cell_type": "code",
   "execution_count": 75,
   "id": "1219cdbb-f3e6-40d2-b0c8-29a638c7769f",
   "metadata": {},
   "outputs": [
    {
     "name": "stdout",
     "output_type": "stream",
     "text": [
      "['Status', 'Power_range_sensor_1', 'Power_range_sensor_2', 'Power_range_sensor_3 ', 'Power_range_sensor_4', 'Pressure_sensor_1', 'Pressure_sensor_2', 'Pressure_sensor_3', 'Pressure_sensor_4', 'Vibration_sensor_1', 'Vibration_sensor_2', 'Vibration_sensor_3', 'Vibration_sensor_4']\n",
      "+---------+--------------------+--------------------+---------------------+--------------------+------------------+------------------+-----------------+-----------------+------------------+------------------+------------------+------------------+\n",
      "|Statistic|Power_range_sensor_1|Power_range_sensor_2|Power_range_sensor_3 |Power_range_sensor_4| Pressure_sensor_1| Pressure_sensor_2|Pressure_sensor_3|Pressure_sensor_4|Vibration_sensor_1|Vibration_sensor_2|Vibration_sensor_3|Vibration_sensor_4|\n",
      "+---------+--------------------+--------------------+---------------------+--------------------+------------------+------------------+-----------------+-----------------+------------------+------------------+------------------+------------------+\n",
      "|     mean|   5.602452811244987|   6.844503413654614|    9.292054016064252|   8.701398192771098|13.797525502008027|3.4156463855421686|5.923352610441763|5.586180120481918| 8.441436947791164| 9.699615863453817|  19.4378044176707|10.925097590361458|\n",
      "|      min|              0.0851|              0.0403|               4.3826|              0.1547|            0.0248|            0.0104|           0.0774|           0.0058|            0.0092|            0.0277|            0.0646|            0.0831|\n",
      "|      max|             12.1298|             11.9284|              14.0982|             16.3568|           56.8562|            9.2212|          12.6475|          15.1085|           31.4981|           34.8676|           53.2384|           43.2314|\n",
      "|      50%|              5.1727|              6.6998|               9.2624|              9.2404|           10.6274|             3.113|           5.7394|           4.2574|            7.4222|            8.6684|           16.4414|            9.4347|\n",
      "+---------+--------------------+--------------------+---------------------+--------------------+------------------+------------------+-----------------+-----------------+------------------+------------------+------------------+------------------+\n",
      "\n",
      "+---------+--------------------+--------------------+---------------------+--------------------+------------------+------------------+------------------+-----------------+------------------+------------------+------------------+------------------+\n",
      "|Statistic|Power_range_sensor_1|Power_range_sensor_2|Power_range_sensor_3 |Power_range_sensor_4| Pressure_sensor_1| Pressure_sensor_2| Pressure_sensor_3|Pressure_sensor_4|Vibration_sensor_1|Vibration_sensor_2|Vibration_sensor_3|Vibration_sensor_4|\n",
      "+---------+--------------------+--------------------+---------------------+--------------------+------------------+------------------+------------------+-----------------+------------------+------------------+------------------+------------------+\n",
      "|     mean|   4.396694975903618|   5.914042891566265|    9.164170212851404|   6.009145979919678|14.600728132530127|2.7402695381526136|5.5751150803212886| 4.40782413253012| 7.887688803212858| 10.30356990763052|10.938158947791155|   8.9420846746988|\n",
      "|      min|              0.0082|              0.3891|             2.583966|              0.0623|          0.131478|          0.008262|          0.001224|         0.029478|               0.0|            0.0185|          0.131784|            0.0092|\n",
      "|      max|           10.923078|             10.1541|              15.7599|           17.235858|           67.9794|         10.242738|           11.7724|         16.55562|         36.186438|         34.331466|         36.911454|           26.4669|\n",
      "|      50%|              4.5053|            5.929872|               9.4666|              5.3952|           12.5912|          2.380578|          5.743314|           3.3072|            6.5175|            8.9085|          8.983038|            8.1145|\n",
      "+---------+--------------------+--------------------+---------------------+--------------------+------------------+------------------+------------------+-----------------+------------------+------------------+------------------+------------------+\n",
      "\n"
     ]
    }
   ],
   "source": [
    "#Task 2\n",
    "\n",
    "features = ['Power_range_sensor_1', 'Power_range_sensor_2', 'Power_range_sensor_3', 'Power_range_sensor_4',\n",
    "            'Pressure_sensor_1', 'Pressure_sensor_2', 'Pressure_sensor_3', 'Pressure_sensor_4',\n",
    "            'Vibration_sensor_1', 'Vibration_sensor_2', 'Vibration_sensor_3', 'Vibration_sensor_4']\n",
    "\n",
    "#Filtering column Status based on a condition it is normal or abnormal.\n",
    "normal_df = df.filter(df['Status'] == 'Normal')\n",
    "abnormal_df = df.filter(df['Status'] == 'Abnormal')\n",
    "\n",
    "def summary_stats(dataframe):\n",
    "    #Takes in pyspark dataframe\n",
    "    #Drops the status column and uses .summary to find mean min max and median, renames the 50% to median\n",
    "    #Then converts to a pandas dataframe.\n",
    "    dfSummary = dataframe.drop('Status').summary('mean','min','max','50%')\n",
    "    dfSummary = dfSummary.withColumnRenamed(\"50%\",\"median\")\\\n",
    "                            .withColumnRenamed('summary', 'Statistic')\n",
    "    return dfSummary\n",
    "\n",
    "normal_summary_stats = summary_stats(normal_df)\n",
    "normal_summary_stats.show()\n",
    "\n",
    "abnormal_summary_stats = summary_stats(abnormal_df)\n",
    "abnormal_summary_stats.show()\n"
   ]
  },
  {
   "cell_type": "code",
   "execution_count": null,
   "id": "847e4e0d-3d99-43fb-87ce-afa7af80591c",
   "metadata": {},
   "outputs": [],
   "source": []
  },
  {
   "cell_type": "code",
   "execution_count": null,
   "id": "5259ba5c-61a4-4f9c-ad1c-43c98a7ff4d5",
   "metadata": {},
   "outputs": [],
   "source": []
  }
 ],
 "metadata": {
  "kernelspec": {
   "display_name": "Python 3 (ipykernel)",
   "language": "python",
   "name": "python3"
  },
  "language_info": {
   "codemirror_mode": {
    "name": "ipython",
    "version": 3
   },
   "file_extension": ".py",
   "mimetype": "text/x-python",
   "name": "python",
   "nbconvert_exporter": "python",
   "pygments_lexer": "ipython3",
   "version": "3.11.5"
  }
 },
 "nbformat": 4,
 "nbformat_minor": 5
}
